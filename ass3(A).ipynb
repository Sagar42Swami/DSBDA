{
 "cells": [
  {
   "cell_type": "code",
   "execution_count": 1,
   "id": "6ef52ff5-ff0e-4784-80e2-6af411de882b",
   "metadata": {},
   "outputs": [],
   "source": [
    "import pandas as pd\n",
    "import numpy as np"
   ]
  },
  {
   "cell_type": "code",
   "execution_count": 18,
   "id": "37c1f38d-5bcb-47ce-8501-d17d536b939d",
   "metadata": {},
   "outputs": [],
   "source": [
    "ir=pd.read_csv(r\"Income.csv\")"
   ]
  },
  {
   "cell_type": "code",
   "execution_count": 20,
   "id": "a502a1ab-ab40-4705-953d-f66c92796548",
   "metadata": {},
   "outputs": [
    {
     "data": {
      "text/plain": [
       "np.float64(21.2)"
      ]
     },
     "execution_count": 20,
     "metadata": {},
     "output_type": "execute_result"
    }
   ],
   "source": [
    "ir.loc[:,'AGE'].mean()"
   ]
  },
  {
   "cell_type": "code",
   "execution_count": 21,
   "id": "8e5d860b-38f4-437a-8ccd-77e9c862f503",
   "metadata": {},
   "outputs": [
    {
     "data": {
      "text/plain": [
       "np.float64(35412.1)"
      ]
     },
     "execution_count": 21,
     "metadata": {},
     "output_type": "execute_result"
    }
   ],
   "source": [
    "ir.loc[:,'INCOME'].mean()"
   ]
  },
  {
   "cell_type": "code",
   "execution_count": 26,
   "id": "fc20014d-dea1-4300-b846-5fe82fc18378",
   "metadata": {},
   "outputs": [
    {
     "data": {
      "text/plain": [
       "np.float64(21.0)"
      ]
     },
     "execution_count": 26,
     "metadata": {},
     "output_type": "execute_result"
    }
   ],
   "source": [
    "ir.loc[:,'AGE'].median()"
   ]
  },
  {
   "cell_type": "code",
   "execution_count": 27,
   "id": "ab6a6bd6-ab6c-4da0-b365-16d131633547",
   "metadata": {},
   "outputs": [
    {
     "data": {
      "text/plain": [
       "np.float64(33163.5)"
      ]
     },
     "execution_count": 27,
     "metadata": {},
     "output_type": "execute_result"
    }
   ],
   "source": [
    "ir.loc[:,'INCOME'].median()"
   ]
  },
  {
   "cell_type": "code",
   "execution_count": 6,
   "id": "a5a94a71-5989-4e97-b948-922a38aa5d5e",
   "metadata": {},
   "outputs": [
    {
     "data": {
      "text/html": [
       "<div>\n",
       "<style scoped>\n",
       "    .dataframe tbody tr th:only-of-type {\n",
       "        vertical-align: middle;\n",
       "    }\n",
       "\n",
       "    .dataframe tbody tr th {\n",
       "        vertical-align: top;\n",
       "    }\n",
       "\n",
       "    .dataframe thead th {\n",
       "        text-align: right;\n",
       "    }\n",
       "</style>\n",
       "<table border=\"1\" class=\"dataframe\">\n",
       "  <thead>\n",
       "    <tr style=\"text-align: right;\">\n",
       "      <th></th>\n",
       "      <th>CID</th>\n",
       "      <th>AGE</th>\n",
       "      <th>GENDER</th>\n",
       "      <th>INCOME</th>\n",
       "    </tr>\n",
       "  </thead>\n",
       "  <tbody>\n",
       "    <tr>\n",
       "      <th>0</th>\n",
       "      <td>CID</td>\n",
       "      <td>AGE</td>\n",
       "      <td>GENDER</td>\n",
       "      <td>INCOME</td>\n",
       "    </tr>\n",
       "    <tr>\n",
       "      <th>1</th>\n",
       "      <td>1</td>\n",
       "      <td>20</td>\n",
       "      <td>Male</td>\n",
       "      <td>42592</td>\n",
       "    </tr>\n",
       "    <tr>\n",
       "      <th>2</th>\n",
       "      <td>2</td>\n",
       "      <td>21</td>\n",
       "      <td>Female</td>\n",
       "      <td>22526</td>\n",
       "    </tr>\n",
       "    <tr>\n",
       "      <th>3</th>\n",
       "      <td>3</td>\n",
       "      <td>22</td>\n",
       "      <td>Male</td>\n",
       "      <td>46786</td>\n",
       "    </tr>\n",
       "    <tr>\n",
       "      <th>4</th>\n",
       "      <td>4</td>\n",
       "      <td>20</td>\n",
       "      <td>Female</td>\n",
       "      <td>34951</td>\n",
       "    </tr>\n",
       "  </tbody>\n",
       "</table>\n",
       "</div>"
      ],
      "text/plain": [
       "   CID  AGE  GENDER  INCOME\n",
       "0  CID  AGE  GENDER  INCOME\n",
       "1    1   20    Male   42592\n",
       "2    2   21  Female   22526\n",
       "3    3   22    Male   46786\n",
       "4    4   20  Female   34951"
      ]
     },
     "execution_count": 6,
     "metadata": {},
     "output_type": "execute_result"
    }
   ],
   "source": [
    "ir.head()"
   ]
  },
  {
   "cell_type": "code",
   "execution_count": 7,
   "id": "797cc401-2f49-4591-9154-9b25aa1ed07e",
   "metadata": {},
   "outputs": [
    {
     "data": {
      "text/html": [
       "<div>\n",
       "<style scoped>\n",
       "    .dataframe tbody tr th:only-of-type {\n",
       "        vertical-align: middle;\n",
       "    }\n",
       "\n",
       "    .dataframe tbody tr th {\n",
       "        vertical-align: top;\n",
       "    }\n",
       "\n",
       "    .dataframe thead th {\n",
       "        text-align: right;\n",
       "    }\n",
       "</style>\n",
       "<table border=\"1\" class=\"dataframe\">\n",
       "  <thead>\n",
       "    <tr style=\"text-align: right;\">\n",
       "      <th></th>\n",
       "      <th>CID</th>\n",
       "      <th>AGE</th>\n",
       "      <th>GENDER</th>\n",
       "      <th>INCOME</th>\n",
       "    </tr>\n",
       "  </thead>\n",
       "  <tbody>\n",
       "    <tr>\n",
       "      <th>16</th>\n",
       "      <td>16</td>\n",
       "      <td>22</td>\n",
       "      <td>Female</td>\n",
       "      <td>25410</td>\n",
       "    </tr>\n",
       "    <tr>\n",
       "      <th>17</th>\n",
       "      <td>17</td>\n",
       "      <td>20</td>\n",
       "      <td>Male</td>\n",
       "      <td>35743</td>\n",
       "    </tr>\n",
       "    <tr>\n",
       "      <th>18</th>\n",
       "      <td>18</td>\n",
       "      <td>20</td>\n",
       "      <td>Male</td>\n",
       "      <td>28415</td>\n",
       "    </tr>\n",
       "    <tr>\n",
       "      <th>19</th>\n",
       "      <td>19</td>\n",
       "      <td>21</td>\n",
       "      <td>Female</td>\n",
       "      <td>24369</td>\n",
       "    </tr>\n",
       "    <tr>\n",
       "      <th>20</th>\n",
       "      <td>20</td>\n",
       "      <td>22</td>\n",
       "      <td>Female</td>\n",
       "      <td>47268</td>\n",
       "    </tr>\n",
       "  </tbody>\n",
       "</table>\n",
       "</div>"
      ],
      "text/plain": [
       "   CID AGE  GENDER INCOME\n",
       "16  16  22  Female  25410\n",
       "17  17  20    Male  35743\n",
       "18  18  20    Male  28415\n",
       "19  19  21  Female  24369\n",
       "20  20  22  Female  47268"
      ]
     },
     "execution_count": 7,
     "metadata": {},
     "output_type": "execute_result"
    }
   ],
   "source": [
    "ir.tail()"
   ]
  },
  {
   "cell_type": "code",
   "execution_count": 8,
   "id": "6909ce3e-eb2f-4827-9210-0d6cbfbd4f2c",
   "metadata": {},
   "outputs": [
    {
     "name": "stdout",
     "output_type": "stream",
     "text": [
      "<class 'pandas.core.frame.DataFrame'>\n",
      "RangeIndex: 21 entries, 0 to 20\n",
      "Data columns (total 4 columns):\n",
      " #   Column  Non-Null Count  Dtype \n",
      "---  ------  --------------  ----- \n",
      " 0   CID     21 non-null     object\n",
      " 1   AGE     21 non-null     object\n",
      " 2   GENDER  21 non-null     object\n",
      " 3   INCOME  21 non-null     object\n",
      "dtypes: object(4)\n",
      "memory usage: 804.0+ bytes\n"
     ]
    }
   ],
   "source": [
    "ir.info()"
   ]
  },
  {
   "cell_type": "code",
   "execution_count": 9,
   "id": "4e8313df-4dfd-43ad-8198-3daa2a5bc60a",
   "metadata": {},
   "outputs": [
    {
     "data": {
      "text/html": [
       "<div>\n",
       "<style scoped>\n",
       "    .dataframe tbody tr th:only-of-type {\n",
       "        vertical-align: middle;\n",
       "    }\n",
       "\n",
       "    .dataframe tbody tr th {\n",
       "        vertical-align: top;\n",
       "    }\n",
       "\n",
       "    .dataframe thead th {\n",
       "        text-align: right;\n",
       "    }\n",
       "</style>\n",
       "<table border=\"1\" class=\"dataframe\">\n",
       "  <thead>\n",
       "    <tr style=\"text-align: right;\">\n",
       "      <th></th>\n",
       "      <th>CID</th>\n",
       "      <th>AGE</th>\n",
       "      <th>GENDER</th>\n",
       "      <th>INCOME</th>\n",
       "    </tr>\n",
       "  </thead>\n",
       "  <tbody>\n",
       "    <tr>\n",
       "      <th>count</th>\n",
       "      <td>21</td>\n",
       "      <td>21</td>\n",
       "      <td>21</td>\n",
       "      <td>21</td>\n",
       "    </tr>\n",
       "    <tr>\n",
       "      <th>unique</th>\n",
       "      <td>21</td>\n",
       "      <td>6</td>\n",
       "      <td>3</td>\n",
       "      <td>21</td>\n",
       "    </tr>\n",
       "    <tr>\n",
       "      <th>top</th>\n",
       "      <td>CID</td>\n",
       "      <td>20</td>\n",
       "      <td>Male</td>\n",
       "      <td>INCOME</td>\n",
       "    </tr>\n",
       "    <tr>\n",
       "      <th>freq</th>\n",
       "      <td>1</td>\n",
       "      <td>7</td>\n",
       "      <td>10</td>\n",
       "      <td>1</td>\n",
       "    </tr>\n",
       "  </tbody>\n",
       "</table>\n",
       "</div>"
      ],
      "text/plain": [
       "        CID AGE GENDER  INCOME\n",
       "count    21  21     21      21\n",
       "unique   21   6      3      21\n",
       "top     CID  20   Male  INCOME\n",
       "freq      1   7     10       1"
      ]
     },
     "execution_count": 9,
     "metadata": {},
     "output_type": "execute_result"
    }
   ],
   "source": [
    "ir.describe()"
   ]
  },
  {
   "cell_type": "code",
   "execution_count": 31,
   "id": "d6fa44fd-b0c0-43a3-98d8-37d02c31c29f",
   "metadata": {},
   "outputs": [
    {
     "data": {
      "text/plain": [
       "0    20\n",
       "Name: AGE, dtype: int64"
      ]
     },
     "execution_count": 31,
     "metadata": {},
     "output_type": "execute_result"
    }
   ],
   "source": [
    "ir.loc[:,'AGE'].mode()"
   ]
  },
  {
   "cell_type": "code",
   "execution_count": 32,
   "id": "bd24b2f8-d3f4-406f-b992-5013019e3d1c",
   "metadata": {},
   "outputs": [
    {
     "data": {
      "text/plain": [
       "0     22526\n",
       "1     24369\n",
       "2     25410\n",
       "3     25757\n",
       "4     27027\n",
       "5     28415\n",
       "6     28821\n",
       "7     29709\n",
       "8     30742\n",
       "9     31376\n",
       "10    34951\n",
       "11    35743\n",
       "12    42592\n",
       "13    42736\n",
       "14    43497\n",
       "15    43537\n",
       "16    46786\n",
       "17    47268\n",
       "18    47295\n",
       "19    49685\n",
       "Name: INCOME, dtype: int64"
      ]
     },
     "execution_count": 32,
     "metadata": {},
     "output_type": "execute_result"
    }
   ],
   "source": [
    "ir.loc[:,'INCOME'].mode()"
   ]
  },
  {
   "cell_type": "markdown",
   "id": "7de95193-c5c6-480d-8ac5-9930e64b95f0",
   "metadata": {},
   "source": [
    "ir.mean()"
   ]
  },
  {
   "cell_type": "code",
   "execution_count": 34,
   "id": "b4746920-e5d7-44ba-a0a6-1d7792417502",
   "metadata": {},
   "outputs": [
    {
     "data": {
      "text/plain": [
       "CID            1\n",
       "AGE           20\n",
       "GENDER    Female\n",
       "INCOME     22526\n",
       "dtype: object"
      ]
     },
     "execution_count": 34,
     "metadata": {},
     "output_type": "execute_result"
    }
   ],
   "source": [
    "ir.min()"
   ]
  },
  {
   "cell_type": "code",
   "execution_count": 35,
   "id": "15397f05-7205-4ce0-b30d-22c388ae78d7",
   "metadata": {},
   "outputs": [
    {
     "data": {
      "text/plain": [
       "CID          20\n",
       "AGE          24\n",
       "GENDER     Male\n",
       "INCOME    49685\n",
       "dtype: object"
      ]
     },
     "execution_count": 35,
     "metadata": {},
     "output_type": "execute_result"
    }
   ],
   "source": [
    "ir.max()"
   ]
  },
  {
   "cell_type": "markdown",
   "id": "44567af2-7309-4f64-bfe2-570e4bfeaa8c",
   "metadata": {},
   "source": [
    "ir.loc[:,'AGE'].min(skipna=False) "
   ]
  },
  {
   "cell_type": "code",
   "execution_count": 36,
   "id": "302cffdb-3e61-421f-911f-c1911da20e6c",
   "metadata": {},
   "outputs": [
    {
     "data": {
      "text/plain": [
       "np.int64(20)"
      ]
     },
     "execution_count": 36,
     "metadata": {},
     "output_type": "execute_result"
    }
   ],
   "source": [
    "ir.loc[:,'AGE'].min(skipna=False)"
   ]
  },
  {
   "cell_type": "code",
   "execution_count": 37,
   "id": "4e3f106a-3c61-44a5-b964-189c7f22a1c8",
   "metadata": {},
   "outputs": [
    {
     "data": {
      "text/plain": [
       "np.float64(1.1516578439248717)"
      ]
     },
     "execution_count": 37,
     "metadata": {},
     "output_type": "execute_result"
    }
   ],
   "source": [
    "ir.loc[:,'AGE'].std()"
   ]
  },
  {
   "cell_type": "code",
   "execution_count": 38,
   "id": "42e8e785-4994-4bc3-ba6a-a4f6b721e305",
   "metadata": {},
   "outputs": [
    {
     "data": {
      "text/plain": [
       "np.float64(9079.592304202117)"
      ]
     },
     "execution_count": 38,
     "metadata": {},
     "output_type": "execute_result"
    }
   ],
   "source": [
    "ir.loc[:,'INCOME'].std()"
   ]
  },
  {
   "cell_type": "code",
   "execution_count": null,
   "id": "7adf5cd9-c365-4e58-8b81-e1476282c5bb",
   "metadata": {},
   "outputs": [],
   "source": []
  }
 ],
 "metadata": {
  "kernelspec": {
   "display_name": "Python 3 (ipykernel)",
   "language": "python",
   "name": "python3"
  },
  "language_info": {
   "codemirror_mode": {
    "name": "ipython",
    "version": 3
   },
   "file_extension": ".py",
   "mimetype": "text/x-python",
   "name": "python",
   "nbconvert_exporter": "python",
   "pygments_lexer": "ipython3",
   "version": "3.12.4"
  }
 },
 "nbformat": 4,
 "nbformat_minor": 5
}
