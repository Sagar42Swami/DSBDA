{
 "cells": [
  {
   "cell_type": "code",
   "execution_count": 1,
   "id": "8bab4a56-6425-4afe-91dc-d2e77fd5a19b",
   "metadata": {},
   "outputs": [],
   "source": [
    "import pandas as pd\n",
    "import numpy as np"
   ]
  },
  {
   "cell_type": "code",
   "execution_count": 2,
   "id": "af94203e-08ca-4f02-b644-8f0b96326143",
   "metadata": {},
   "outputs": [],
   "source": [
    "# Replace 'train.csv' with the actual path to your downloaded file if it's not in the current directory\n",
    "df = pd.read_csv('iris.csv')"
   ]
  },
  {
   "cell_type": "code",
   "execution_count": 3,
   "id": "b6edafcd-f7d1-4420-ab9d-d816e471b2e5",
   "metadata": {},
   "outputs": [
    {
     "name": "stdout",
     "output_type": "stream",
     "text": [
      "Missing Values:\n",
      " sepal_length    0\n",
      "sepal_width     0\n",
      "petal_length    0\n",
      "petal_width     0\n",
      "species         0\n",
      "dtype: int64\n"
     ]
    }
   ],
   "source": [
    "# Check for missing values\n",
    "print(\"Missing Values:\\n\", df.isnull().sum())"
   ]
  },
  {
   "cell_type": "code",
   "execution_count": 4,
   "id": "7826c294-fa2a-471e-9356-488549474b02",
   "metadata": {},
   "outputs": [
    {
     "name": "stdout",
     "output_type": "stream",
     "text": [
      "\n",
      "Descriptive Statistics:\n",
      "        sepal_length  sepal_width  petal_length  petal_width\n",
      "count    150.000000   150.000000    150.000000   150.000000\n",
      "mean       5.843333     3.054000      3.758667     1.198667\n",
      "std        0.828066     0.433594      1.764420     0.763161\n",
      "min        4.300000     2.000000      1.000000     0.100000\n",
      "25%        5.100000     2.800000      1.600000     0.300000\n",
      "50%        5.800000     3.000000      4.350000     1.300000\n",
      "75%        6.400000     3.300000      5.100000     1.800000\n",
      "max        7.900000     4.400000      6.900000     2.500000\n"
     ]
    }
   ],
   "source": [
    "# Get initial statistics\n",
    "print(\"\\nDescriptive Statistics:\\n\", df.describe())"
   ]
  },
  {
   "cell_type": "code",
   "execution_count": 9,
   "id": "d3410aa7-22b7-4d94-94cb-5cb65ad18884",
   "metadata": {},
   "outputs": [
    {
     "name": "stdout",
     "output_type": "stream",
     "text": [
      " Top 6 records are :\n",
      "     sepal_length  sepal_width  petal_length  petal_width species\n",
      "0           5.1          3.5           1.4          0.2  setosa\n",
      "1           4.9          3.0           1.4          0.2  setosa\n",
      "2           4.7          3.2           1.3          0.2  setosa\n",
      "3           4.6          3.1           1.5          0.2  setosa\n",
      "4           5.0          3.6           1.4          0.2  setosa\n",
      "5           5.4          3.9           1.7          0.4  setosa\n"
     ]
    }
   ],
   "source": [
    "# show initial 6 rows\n",
    "print(\" Top 6 records are :\\n \",df.head(n=6))"
   ]
  },
  {
   "cell_type": "code",
   "execution_count": 10,
   "id": "bdd18f25-ec5d-4deb-bbf4-f3665af96c73",
   "metadata": {},
   "outputs": [
    {
     "name": "stdout",
     "output_type": "stream",
     "text": [
      " Last 6 records are :\n",
      "       sepal_length  sepal_width  petal_length  petal_width    species\n",
      "144           6.7          3.3           5.7          2.5  virginica\n",
      "145           6.7          3.0           5.2          2.3  virginica\n",
      "146           6.3          2.5           5.0          1.9  virginica\n",
      "147           6.5          3.0           5.2          2.0  virginica\n",
      "148           6.2          3.4           5.4          2.3  virginica\n",
      "149           5.9          3.0           5.1          1.8  virginica\n"
     ]
    }
   ],
   "source": [
    "# show Last 6 rows\n",
    "print(\" Last 6 records are :\\n \",df.tail(n=6))"
   ]
  },
  {
   "cell_type": "code",
   "execution_count": 11,
   "id": "effb9a0a-3fcb-4f81-993a-230d6211f406",
   "metadata": {},
   "outputs": [
    {
     "name": "stdout",
     "output_type": "stream",
     "text": [
      "<class 'pandas.core.frame.DataFrame'>\n",
      "RangeIndex: 150 entries, 0 to 149\n",
      "Data columns (total 5 columns):\n",
      " #   Column        Non-Null Count  Dtype  \n",
      "---  ------        --------------  -----  \n",
      " 0   sepal_length  150 non-null    float64\n",
      " 1   sepal_width   150 non-null    float64\n",
      " 2   petal_length  150 non-null    float64\n",
      " 3   petal_width   150 non-null    float64\n",
      " 4   species       150 non-null    object \n",
      "dtypes: float64(4), object(1)\n",
      "memory usage: 6.0+ KB\n",
      "\n",
      "Information about Variables:\n",
      " None\n"
     ]
    }
   ],
   "source": [
    "# Variable Descriptions and Types\n",
    "print(\"\\nInformation about Variables:\\n\", df.info())"
   ]
  },
  {
   "cell_type": "code",
   "execution_count": 12,
   "id": "d71afeef-e299-4d92-b3ff-9965a0529d7f",
   "metadata": {},
   "outputs": [
    {
     "name": "stdout",
     "output_type": "stream",
     "text": [
      "\n",
      "DataFrame Dimensions (rows, columns): (150, 5)\n"
     ]
    }
   ],
   "source": [
    "# Check the dimensions of the DataFrame\n",
    "print(\"\\nDataFrame Dimensions (rows, columns):\", df.shape)"
   ]
  },
  {
   "cell_type": "code",
   "execution_count": 16,
   "id": "2610295e-266b-4dad-a1dc-8bb4f0cae44e",
   "metadata": {},
   "outputs": [
    {
     "name": "stdout",
     "output_type": "stream",
     "text": [
      "\n",
      "Data Types of Each Column:\n",
      "Column name  Data Type \n",
      "  sepal_length    float64\n",
      "sepal_width     float64\n",
      "petal_length    float64\n",
      "petal_width     float64\n",
      "species          object\n",
      "dtype: object\n"
     ]
    }
   ],
   "source": [
    "# Summarize the types of variables\n",
    "print(\"\\nData Types of Each Column:\\nColumn name  Data Type \\n \", df.dtypes)"
   ]
  },
  {
   "cell_type": "code",
   "execution_count": 26,
   "id": "53b17dbd-5e7b-4f19-a8be-116151165619",
   "metadata": {},
   "outputs": [
    {
     "name": "stdout",
     "output_type": "stream",
     "text": [
      "\n",
      "Data Type of sepal_length before conversion: int64\n",
      "\n",
      "Data Type of sepal_length after conversion: int64\n"
     ]
    }
   ],
   "source": [
    "\n",
    "df['sepal_length']=df['sepal_length'].astype('int')\n",
    "print(\"\\nData Type of sepal_length after conversion:\", df['sepal_length'].dtype)"
   ]
  },
  {
   "cell_type": "code",
   "execution_count": 28,
   "id": "7d5c31cd-704a-4147-8704-be60243719b5",
   "metadata": {},
   "outputs": [
    {
     "name": "stdout",
     "output_type": "stream",
     "text": [
      "Minimum Sepal length =  4 \n",
      " Maximum Sepal length =  7\n"
     ]
    }
   ],
   "source": [
    "# Example of Min-Max Scaling for 'sepal_length'\n",
    "sepal_length_min = df['sepal_length'].min()\n",
    "sepal_length_max = df['sepal_length'].max()\n",
    "print(\"Minimum Sepal length = \",sepal_length_min,\"\\n Maximum Sepal length = \",sepal_length_max)"
   ]
  },
  {
   "cell_type": "markdown",
   "id": "b9718de4-5264-4f7e-a4c4-069e63d88f4c",
   "metadata": {},
   "source": [
    "We first calculate the minimum and maximum values of the 'sepal_length' column.\n",
    "Then, we apply the Min-Max scaling formula to each value in the 'sepal_length' column. The result is a new column named 'sepal_length_Normalized' with values scaled between 0 and 1.\n",
    "This step addresses the data formatting (checking and potentially converting data types) and provides an example of data normalization for the given Iris dataset records. Remember that the need for normalization depends on the specific analysis or machine learning tasks you intend to perform"
   ]
  },
  {
   "cell_type": "code",
   "execution_count": 29,
   "id": "7578666e-79ba-45a1-ae1d-565984545b64",
   "metadata": {},
   "outputs": [
    {
     "name": "stdout",
     "output_type": "stream",
     "text": [
      "\n",
      "Original and Normalized sepal_length:\n",
      "      sepal_length  sepal_length_Normalized\n",
      "0               5                 0.333333\n",
      "1               4                 0.000000\n",
      "2               4                 0.000000\n",
      "3               4                 0.000000\n",
      "4               5                 0.333333\n",
      "..            ...                      ...\n",
      "145             6                 0.666667\n",
      "146             6                 0.666667\n",
      "147             6                 0.666667\n",
      "148             6                 0.666667\n",
      "149             5                 0.333333\n",
      "\n",
      "[150 rows x 2 columns]\n"
     ]
    }
   ],
   "source": [
    "df['sepal_length_Normalized'] = (df['sepal_length'] - sepal_length_min) / (sepal_length_max - sepal_length_min)\n",
    "print(\"\\nOriginal and Normalized sepal_length:\\n\", df[['sepal_length', 'sepal_length_Normalized']])"
   ]
  },
  {
   "cell_type": "code",
   "execution_count": 35,
   "id": "01ab95d1-2b1e-4d19-b7c0-f6fa7eafb4a2",
   "metadata": {},
   "outputs": [
    {
     "name": "stdout",
     "output_type": "stream",
     "text": [
      "\n",
      "Categorical Columns: Index([], dtype='object')\n"
     ]
    }
   ],
   "source": [
    "#Turn categorical variables into quantitative variables \n",
    "# Identify categorical columns (typically 'object' dtype)\n",
    "categorical_cols = df.select_dtypes(include='object').columns\n",
    "print(\"\\nCategorical Columns:\", categorical_cols)"
   ]
  },
  {
   "cell_type": "code",
   "execution_count": null,
   "id": "7b0eec70-f0e7-4f8d-b77c-7e83ebe45548",
   "metadata": {},
   "outputs": [],
   "source": []
  }
 ],
 "metadata": {
  "kernelspec": {
   "display_name": "Python 3 (ipykernel)",
   "language": "python",
   "name": "python3"
  },
  "language_info": {
   "codemirror_mode": {
    "name": "ipython",
    "version": 3
   },
   "file_extension": ".py",
   "mimetype": "text/x-python",
   "name": "python",
   "nbconvert_exporter": "python",
   "pygments_lexer": "ipython3",
   "version": "3.12.4"
  }
 },
 "nbformat": 4,
 "nbformat_minor": 5
}
