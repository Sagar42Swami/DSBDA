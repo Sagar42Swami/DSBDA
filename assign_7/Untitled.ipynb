{
 "cells": [
  {
   "cell_type": "code",
   "execution_count": 1,
   "id": "b03db15f-dd23-42aa-8c8d-e33c5fcff548",
   "metadata": {},
   "outputs": [
    {
     "name": "stdout",
     "output_type": "stream",
     "text": [
      "Sample Document:\n",
      " The quick brown foxes are jumping over the lazy dogs in the garden.This is a sample document for demonstrating text preprocessing techniques.We will be applying tokenization, part-of-speech tagging, stop words removal, stemming, and lemmatization.\n"
     ]
    }
   ],
   "source": [
    "sample_document = \"\"\"The quick brown foxes are jumping over the lazy dogs in the garden.This is a sample document for demonstrating text preprocessing techniques.We will be applying tokenization, part-of-speech tagging, stop words removal, stemming, and lemmatization.\"\"\"\n",
    "print(\"Sample Document:\\n\", sample_document)"
   ]
  },
  {
   "cell_type": "code",
   "execution_count": 5,
   "id": "f8ed853b-b7ad-44d8-bd96-8218c293fb41",
   "metadata": {},
   "outputs": [
    {
     "name": "stderr",
     "output_type": "stream",
     "text": [
      "[nltk_data] Downloading package punkt to\n",
      "[nltk_data]     C:\\Users\\sagar\\AppData\\Roaming\\nltk_data...\n",
      "[nltk_data]   Package punkt is already up-to-date!\n",
      "[nltk_data] Downloading package stopwords to\n",
      "[nltk_data]     C:\\Users\\sagar\\AppData\\Roaming\\nltk_data...\n",
      "[nltk_data]   Package stopwords is already up-to-date!\n",
      "[nltk_data] Downloading package averaged_perceptron_tagger to\n",
      "[nltk_data]     C:\\Users\\sagar\\AppData\\Roaming\\nltk_data...\n",
      "[nltk_data]   Package averaged_perceptron_tagger is already up-to-\n",
      "[nltk_data]       date!\n",
      "[nltk_data] Downloading package wordnet to\n",
      "[nltk_data]     C:\\Users\\sagar\\AppData\\Roaming\\nltk_data...\n",
      "[nltk_data]   Package wordnet is already up-to-date!\n",
      "[nltk_data] Downloading package omw-1.4 to\n",
      "[nltk_data]     C:\\Users\\sagar\\AppData\\Roaming\\nltk_data...\n",
      "[nltk_data]   Package omw-1.4 is already up-to-date!\n"
     ]
    },
    {
     "data": {
      "text/plain": [
       "True"
      ]
     },
     "execution_count": 5,
     "metadata": {},
     "output_type": "execute_result"
    }
   ],
   "source": [
    "\n",
    "import nltk\n",
    "from nltk.corpus import stopwords\n",
    "from nltk.stem import PorterStemmer, WordNetLemmatizer\n",
    "from nltk.tokenize import word_tokenize\n",
    "\n",
    "# Download necessary NLTK data (run this once)\n",
    "nltk.download('punkt')\n",
    "nltk.download('stopwords')\n",
    "nltk.download('averaged_perceptron_tagger')\n",
    "nltk.download('wordnet')\n",
    "nltk.download('omw-1.4')\n",
    "\n",
    "\n"
   ]
  },
  {
   "cell_type": "code",
   "execution_count": 8,
   "id": "a5f22f99-d478-4b34-ab37-f108b72b2920",
   "metadata": {},
   "outputs": [
    {
     "name": "stdout",
     "output_type": "stream",
     "text": [
      "Collecting spacy\n",
      "  Downloading spacy-3.8.5-cp312-cp312-win_amd64.whl.metadata (28 kB)\n",
      "Collecting spacy-legacy<3.1.0,>=3.0.11 (from spacy)\n",
      "  Downloading spacy_legacy-3.0.12-py2.py3-none-any.whl.metadata (2.8 kB)\n",
      "Collecting spacy-loggers<2.0.0,>=1.0.0 (from spacy)\n",
      "  Downloading spacy_loggers-1.0.5-py3-none-any.whl.metadata (23 kB)\n",
      "Collecting murmurhash<1.1.0,>=0.28.0 (from spacy)\n",
      "  Downloading murmurhash-1.0.12-cp312-cp312-win_amd64.whl.metadata (2.2 kB)\n",
      "Collecting cymem<2.1.0,>=2.0.2 (from spacy)\n",
      "  Downloading cymem-2.0.11-cp312-cp312-win_amd64.whl.metadata (8.8 kB)\n",
      "Collecting preshed<3.1.0,>=3.0.2 (from spacy)\n",
      "  Downloading preshed-3.0.9-cp312-cp312-win_amd64.whl.metadata (2.2 kB)\n",
      "Collecting thinc<8.4.0,>=8.3.4 (from spacy)\n",
      "  Downloading thinc-8.3.6-cp312-cp312-win_amd64.whl.metadata (15 kB)\n",
      "Collecting wasabi<1.2.0,>=0.9.1 (from spacy)\n",
      "  Downloading wasabi-1.1.3-py3-none-any.whl.metadata (28 kB)\n",
      "Collecting srsly<3.0.0,>=2.4.3 (from spacy)\n",
      "  Downloading srsly-2.5.1-cp312-cp312-win_amd64.whl.metadata (20 kB)\n",
      "Collecting catalogue<2.1.0,>=2.0.6 (from spacy)\n",
      "  Downloading catalogue-2.0.10-py3-none-any.whl.metadata (14 kB)\n",
      "Collecting weasel<0.5.0,>=0.1.0 (from spacy)\n",
      "  Downloading weasel-0.4.1-py3-none-any.whl.metadata (4.6 kB)\n",
      "Collecting typer<1.0.0,>=0.3.0 (from spacy)\n",
      "  Downloading typer-0.15.3-py3-none-any.whl.metadata (15 kB)\n",
      "Requirement already satisfied: tqdm<5.0.0,>=4.38.0 in c:\\users\\sagar\\appdata\\local\\programs\\python\\python312\\lib\\site-packages (from spacy) (4.67.1)\n",
      "Requirement already satisfied: numpy>=1.19.0 in c:\\users\\sagar\\appdata\\local\\programs\\python\\python312\\lib\\site-packages (from spacy) (2.2.2)\n",
      "Requirement already satisfied: requests<3.0.0,>=2.13.0 in c:\\users\\sagar\\appdata\\local\\programs\\python\\python312\\lib\\site-packages (from spacy) (2.31.0)\n",
      "Collecting pydantic!=1.8,!=1.8.1,<3.0.0,>=1.7.4 (from spacy)\n",
      "  Downloading pydantic-2.11.4-py3-none-any.whl.metadata (66 kB)\n",
      "Requirement already satisfied: jinja2 in c:\\users\\sagar\\appdata\\local\\programs\\python\\python312\\lib\\site-packages (from spacy) (3.1.5)\n",
      "Requirement already satisfied: setuptools in c:\\users\\sagar\\appdata\\local\\programs\\python\\python312\\lib\\site-packages (from spacy) (75.8.0)\n",
      "Requirement already satisfied: packaging>=20.0 in c:\\users\\sagar\\appdata\\local\\programs\\python\\python312\\lib\\site-packages (from spacy) (24.2)\n",
      "Collecting langcodes<4.0.0,>=3.2.0 (from spacy)\n",
      "  Downloading langcodes-3.5.0-py3-none-any.whl.metadata (29 kB)\n",
      "Collecting language-data>=1.2 (from langcodes<4.0.0,>=3.2.0->spacy)\n",
      "  Downloading language_data-1.3.0-py3-none-any.whl.metadata (4.3 kB)\n",
      "Collecting annotated-types>=0.6.0 (from pydantic!=1.8,!=1.8.1,<3.0.0,>=1.7.4->spacy)\n",
      "  Downloading annotated_types-0.7.0-py3-none-any.whl.metadata (15 kB)\n",
      "Collecting pydantic-core==2.33.2 (from pydantic!=1.8,!=1.8.1,<3.0.0,>=1.7.4->spacy)\n",
      "  Downloading pydantic_core-2.33.2-cp312-cp312-win_amd64.whl.metadata (6.9 kB)\n",
      "Requirement already satisfied: typing-extensions>=4.12.2 in c:\\users\\sagar\\appdata\\local\\programs\\python\\python312\\lib\\site-packages (from pydantic!=1.8,!=1.8.1,<3.0.0,>=1.7.4->spacy) (4.12.2)\n",
      "Collecting typing-inspection>=0.4.0 (from pydantic!=1.8,!=1.8.1,<3.0.0,>=1.7.4->spacy)\n",
      "  Downloading typing_inspection-0.4.0-py3-none-any.whl.metadata (2.6 kB)\n",
      "Requirement already satisfied: charset-normalizer<4,>=2 in c:\\users\\sagar\\appdata\\local\\programs\\python\\python312\\lib\\site-packages (from requests<3.0.0,>=2.13.0->spacy) (3.3.2)\n",
      "Requirement already satisfied: idna<4,>=2.5 in c:\\users\\sagar\\appdata\\local\\programs\\python\\python312\\lib\\site-packages (from requests<3.0.0,>=2.13.0->spacy) (3.7)\n",
      "Requirement already satisfied: urllib3<3,>=1.21.1 in c:\\users\\sagar\\appdata\\local\\programs\\python\\python312\\lib\\site-packages (from requests<3.0.0,>=2.13.0->spacy) (2.2.1)\n",
      "Requirement already satisfied: certifi>=2017.4.17 in c:\\users\\sagar\\appdata\\local\\programs\\python\\python312\\lib\\site-packages (from requests<3.0.0,>=2.13.0->spacy) (2024.2.2)\n",
      "Collecting blis<1.4.0,>=1.3.0 (from thinc<8.4.0,>=8.3.4->spacy)\n",
      "  Downloading blis-1.3.0-cp312-cp312-win_amd64.whl.metadata (7.6 kB)\n",
      "Collecting confection<1.0.0,>=0.0.1 (from thinc<8.4.0,>=8.3.4->spacy)\n",
      "  Downloading confection-0.1.5-py3-none-any.whl.metadata (19 kB)\n",
      "Requirement already satisfied: colorama in c:\\users\\sagar\\appdata\\local\\programs\\python\\python312\\lib\\site-packages (from tqdm<5.0.0,>=4.38.0->spacy) (0.4.6)\n",
      "Requirement already satisfied: click>=8.0.0 in c:\\users\\sagar\\appdata\\local\\programs\\python\\python312\\lib\\site-packages (from typer<1.0.0,>=0.3.0->spacy) (8.1.8)\n",
      "Collecting shellingham>=1.3.0 (from typer<1.0.0,>=0.3.0->spacy)\n",
      "  Downloading shellingham-1.5.4-py2.py3-none-any.whl.metadata (3.5 kB)\n",
      "Collecting rich>=10.11.0 (from typer<1.0.0,>=0.3.0->spacy)\n",
      "  Downloading rich-14.0.0-py3-none-any.whl.metadata (18 kB)\n",
      "Collecting cloudpathlib<1.0.0,>=0.7.0 (from weasel<0.5.0,>=0.1.0->spacy)\n",
      "  Downloading cloudpathlib-0.21.0-py3-none-any.whl.metadata (14 kB)\n",
      "Collecting smart-open<8.0.0,>=5.2.1 (from weasel<0.5.0,>=0.1.0->spacy)\n",
      "  Downloading smart_open-7.1.0-py3-none-any.whl.metadata (24 kB)\n",
      "Requirement already satisfied: MarkupSafe>=2.0 in c:\\users\\sagar\\appdata\\local\\programs\\python\\python312\\lib\\site-packages (from jinja2->spacy) (3.0.2)\n",
      "Collecting marisa-trie>=1.1.0 (from language-data>=1.2->langcodes<4.0.0,>=3.2.0->spacy)\n",
      "  Downloading marisa_trie-1.2.1-cp312-cp312-win_amd64.whl.metadata (9.3 kB)\n",
      "Collecting markdown-it-py>=2.2.0 (from rich>=10.11.0->typer<1.0.0,>=0.3.0->spacy)\n",
      "  Downloading markdown_it_py-3.0.0-py3-none-any.whl.metadata (6.9 kB)\n",
      "Requirement already satisfied: pygments<3.0.0,>=2.13.0 in c:\\users\\sagar\\appdata\\local\\programs\\python\\python312\\lib\\site-packages (from rich>=10.11.0->typer<1.0.0,>=0.3.0->spacy) (2.19.1)\n",
      "Collecting wrapt (from smart-open<8.0.0,>=5.2.1->weasel<0.5.0,>=0.1.0->spacy)\n",
      "  Downloading wrapt-1.17.2-cp312-cp312-win_amd64.whl.metadata (6.5 kB)\n",
      "Collecting mdurl~=0.1 (from markdown-it-py>=2.2.0->rich>=10.11.0->typer<1.0.0,>=0.3.0->spacy)\n",
      "  Downloading mdurl-0.1.2-py3-none-any.whl.metadata (1.6 kB)\n",
      "Downloading spacy-3.8.5-cp312-cp312-win_amd64.whl (11.8 MB)\n",
      "   ---------------------------------------- 0.0/11.8 MB ? eta -:--:--\n",
      "   ---------------------------------------- 0.0/11.8 MB ? eta -:--:--\n",
      "    --------------------------------------- 0.3/11.8 MB ? eta -:--:--\n",
      "   --- ------------------------------------ 1.0/11.8 MB 2.5 MB/s eta 0:00:05\n",
      "   ------ --------------------------------- 1.8/11.8 MB 3.0 MB/s eta 0:00:04\n",
      "   -------- ------------------------------- 2.4/11.8 MB 2.9 MB/s eta 0:00:04\n",
      "   --------- ------------------------------ 2.9/11.8 MB 2.8 MB/s eta 0:00:04\n",
      "   ----------- ---------------------------- 3.4/11.8 MB 2.8 MB/s eta 0:00:03\n",
      "   -------------- ------------------------- 4.2/11.8 MB 2.8 MB/s eta 0:00:03\n",
      "   --------------- ------------------------ 4.5/11.8 MB 2.7 MB/s eta 0:00:03\n",
      "   ---------------- ----------------------- 4.7/11.8 MB 2.5 MB/s eta 0:00:03\n",
      "   ---------------- ----------------------- 5.0/11.8 MB 2.4 MB/s eta 0:00:03\n",
      "   ----------------- ---------------------- 5.2/11.8 MB 2.3 MB/s eta 0:00:03\n",
      "   ------------------ --------------------- 5.5/11.8 MB 2.2 MB/s eta 0:00:03\n",
      "   ------------------ --------------------- 5.5/11.8 MB 2.2 MB/s eta 0:00:03\n",
      "   ------------------ --------------------- 5.5/11.8 MB 2.2 MB/s eta 0:00:03\n",
      "   ------------------- -------------------- 5.8/11.8 MB 1.8 MB/s eta 0:00:04\n",
      "   ------------------- -------------------- 5.8/11.8 MB 1.8 MB/s eta 0:00:04\n",
      "   ------------------- -------------------- 5.8/11.8 MB 1.8 MB/s eta 0:00:04\n",
      "   ------------------- -------------------- 5.8/11.8 MB 1.8 MB/s eta 0:00:04\n",
      "   ------------------- -------------------- 5.8/11.8 MB 1.8 MB/s eta 0:00:04\n",
      "   ------------------- -------------------- 5.8/11.8 MB 1.8 MB/s eta 0:00:04\n",
      "   ------------------- -------------------- 5.8/11.8 MB 1.8 MB/s eta 0:00:04\n",
      "   ------------------- -------------------- 5.8/11.8 MB 1.8 MB/s eta 0:00:04\n",
      "   ------------------- -------------------- 5.8/11.8 MB 1.8 MB/s eta 0:00:04\n",
      "   ------------------- -------------------- 5.8/11.8 MB 1.8 MB/s eta 0:00:04\n",
      "   ------------------- -------------------- 5.8/11.8 MB 1.8 MB/s eta 0:00:04\n",
      "   ------------------- -------------------- 5.8/11.8 MB 1.8 MB/s eta 0:00:04\n",
      "   ------------------- -------------------- 5.8/11.8 MB 1.8 MB/s eta 0:00:04\n",
      "   ------------------- -------------------- 5.8/11.8 MB 1.8 MB/s eta 0:00:04\n",
      "   --------------------- ------------------ 6.3/11.8 MB 987.0 kB/s eta 0:00:06\n",
      "   --------------------- ------------------ 6.3/11.8 MB 987.0 kB/s eta 0:00:06\n",
      "   --------------------- ------------------ 6.3/11.8 MB 987.0 kB/s eta 0:00:06\n",
      "   --------------------- ------------------ 6.3/11.8 MB 987.0 kB/s eta 0:00:06\n",
      "   --------------------- ------------------ 6.3/11.8 MB 987.0 kB/s eta 0:00:06\n",
      "   --------------------- ------------------ 6.3/11.8 MB 987.0 kB/s eta 0:00:06\n",
      "   --------------------- ------------------ 6.3/11.8 MB 987.0 kB/s eta 0:00:06\n",
      "   --------------------- ------------------ 6.3/11.8 MB 987.0 kB/s eta 0:00:06\n",
      "   --------------------- ------------------ 6.3/11.8 MB 987.0 kB/s eta 0:00:06\n",
      "   --------------------- ------------------ 6.3/11.8 MB 987.0 kB/s eta 0:00:06\n",
      "   --------------------- ------------------ 6.3/11.8 MB 987.0 kB/s eta 0:00:06\n",
      "   --------------------- ------------------ 6.3/11.8 MB 987.0 kB/s eta 0:00:06\n",
      "   --------------------- ------------------ 6.3/11.8 MB 987.0 kB/s eta 0:00:06\n",
      "   --------------------- ------------------ 6.3/11.8 MB 987.0 kB/s eta 0:00:06\n",
      "   --------------------- ------------------ 6.3/11.8 MB 987.0 kB/s eta 0:00:06\n",
      "   --------------------- ------------------ 6.3/11.8 MB 987.0 kB/s eta 0:00:06\n",
      "   --------------------- ------------------ 6.3/11.8 MB 987.0 kB/s eta 0:00:06\n",
      "   --------------------- ------------------ 6.3/11.8 MB 987.0 kB/s eta 0:00:06\n",
      "   ----------------------- ---------------- 6.8/11.8 MB 659.5 kB/s eta 0:00:08\n",
      "   ------------------------ --------------- 7.3/11.8 MB 694.8 kB/s eta 0:00:07\n",
      "   ------------------------ --------------- 7.3/11.8 MB 694.8 kB/s eta 0:00:07\n",
      "   --------------------------- ------------ 8.1/11.8 MB 742.3 kB/s eta 0:00:05\n",
      "   ---------------------------- ----------- 8.4/11.8 MB 759.3 kB/s eta 0:00:05\n",
      "   ---------------------------- ----------- 8.4/11.8 MB 759.3 kB/s eta 0:00:05\n",
      "   ----------------------------- ---------- 8.7/11.8 MB 757.2 kB/s eta 0:00:05\n",
      "   ------------------------------ --------- 8.9/11.8 MB 767.9 kB/s eta 0:00:04\n",
      "   ------------------------------ --------- 8.9/11.8 MB 767.9 kB/s eta 0:00:04\n",
      "   ------------------------------ --------- 8.9/11.8 MB 767.9 kB/s eta 0:00:04\n",
      "   -------------------------------- ------- 9.4/11.8 MB 757.7 kB/s eta 0:00:04\n",
      "   -------------------------------- ------- 9.7/11.8 MB 769.4 kB/s eta 0:00:03\n",
      "   ---------------------------------- ----- 10.2/11.8 MB 797.9 kB/s eta 0:00:02\n",
      "   ----------------------------------- ---- 10.5/11.8 MB 806.8 kB/s eta 0:00:02\n",
      "   ------------------------------------ --- 10.7/11.8 MB 815.4 kB/s eta 0:00:02\n",
      "   -------------------------------------- - 11.3/11.8 MB 834.9 kB/s eta 0:00:01\n",
      "   ---------------------------------------  11.5/11.8 MB 842.8 kB/s eta 0:00:01\n",
      "   ---------------------------------------- 11.8/11.8 MB 849.3 kB/s eta 0:00:00\n",
      "Downloading catalogue-2.0.10-py3-none-any.whl (17 kB)\n",
      "Downloading cymem-2.0.11-cp312-cp312-win_amd64.whl (39 kB)\n",
      "Downloading langcodes-3.5.0-py3-none-any.whl (182 kB)\n",
      "Downloading murmurhash-1.0.12-cp312-cp312-win_amd64.whl (25 kB)\n",
      "Downloading preshed-3.0.9-cp312-cp312-win_amd64.whl (122 kB)\n",
      "Downloading pydantic-2.11.4-py3-none-any.whl (443 kB)\n",
      "Downloading pydantic_core-2.33.2-cp312-cp312-win_amd64.whl (2.0 MB)\n",
      "   ---------------------------------------- 0.0/2.0 MB ? eta -:--:--\n",
      "   ----- ---------------------------------- 0.3/2.0 MB ? eta -:--:--\n",
      "   ---------- ----------------------------- 0.5/2.0 MB 1.5 MB/s eta 0:00:01\n",
      "   ---------------- ----------------------- 0.8/2.0 MB 1.5 MB/s eta 0:00:01\n",
      "   -------------------------- ------------- 1.3/2.0 MB 1.5 MB/s eta 0:00:01\n",
      "   -------------------------------- ------- 1.6/2.0 MB 1.5 MB/s eta 0:00:01\n",
      "   ------------------------------------- -- 1.8/2.0 MB 1.5 MB/s eta 0:00:01\n",
      "   ---------------------------------------- 2.0/2.0 MB 1.4 MB/s eta 0:00:00\n",
      "Downloading spacy_legacy-3.0.12-py2.py3-none-any.whl (29 kB)\n",
      "Downloading spacy_loggers-1.0.5-py3-none-any.whl (22 kB)\n",
      "Downloading srsly-2.5.1-cp312-cp312-win_amd64.whl (632 kB)\n",
      "   ---------------------------------------- 0.0/632.6 kB ? eta -:--:--\n",
      "   ---------------- ----------------------- 262.1/632.6 kB ? eta -:--:--\n",
      "   ---------------------------------------- 632.6/632.6 kB 1.8 MB/s eta 0:00:00\n",
      "Downloading thinc-8.3.6-cp312-cp312-win_amd64.whl (1.7 MB)\n",
      "   ---------------------------------------- 0.0/1.7 MB ? eta -:--:--\n",
      "   ----- ---------------------------------- 0.3/1.7 MB ? eta -:--:--\n",
      "   ----------------- ---------------------- 0.8/1.7 MB 1.9 MB/s eta 0:00:01\n",
      "   ----------------------- ---------------- 1.0/1.7 MB 1.5 MB/s eta 0:00:01\n",
      "   ----------------------- ---------------- 1.0/1.7 MB 1.5 MB/s eta 0:00:01\n",
      "   ----------------------------------- ---- 1.6/1.7 MB 1.5 MB/s eta 0:00:01\n",
      "   ---------------------------------------- 1.7/1.7 MB 1.5 MB/s eta 0:00:00\n",
      "Downloading typer-0.15.3-py3-none-any.whl (45 kB)\n",
      "Downloading wasabi-1.1.3-py3-none-any.whl (27 kB)\n",
      "Downloading weasel-0.4.1-py3-none-any.whl (50 kB)\n",
      "Downloading annotated_types-0.7.0-py3-none-any.whl (13 kB)\n",
      "Downloading blis-1.3.0-cp312-cp312-win_amd64.whl (6.3 MB)\n",
      "   ---------------------------------------- 0.0/6.3 MB ? eta -:--:--\n",
      "   ---------------------------------------- 0.0/6.3 MB ? eta -:--:--\n",
      "   - -------------------------------------- 0.3/6.3 MB ? eta -:--:--\n",
      "   --- ------------------------------------ 0.5/6.3 MB 1.3 MB/s eta 0:00:05\n",
      "   ----- ---------------------------------- 0.8/6.3 MB 1.2 MB/s eta 0:00:05\n",
      "   ------ --------------------------------- 1.0/6.3 MB 1.0 MB/s eta 0:00:05\n",
      "   -------- ------------------------------- 1.3/6.3 MB 1.0 MB/s eta 0:00:05\n",
      "   -------- ------------------------------- 1.3/6.3 MB 1.0 MB/s eta 0:00:05\n",
      "   ---------- ----------------------------- 1.6/6.3 MB 1.0 MB/s eta 0:00:05\n",
      "   ----------- ---------------------------- 1.8/6.3 MB 1.0 MB/s eta 0:00:05\n",
      "   ------------- -------------------------- 2.1/6.3 MB 1.0 MB/s eta 0:00:05\n",
      "   --------------- ------------------------ 2.4/6.3 MB 1.0 MB/s eta 0:00:04\n",
      "   --------------- ------------------------ 2.4/6.3 MB 1.0 MB/s eta 0:00:04\n",
      "   ---------------- ----------------------- 2.6/6.3 MB 1.0 MB/s eta 0:00:04\n",
      "   ------------------ --------------------- 2.9/6.3 MB 993.0 kB/s eta 0:00:04\n",
      "   -------------------- ------------------- 3.1/6.3 MB 986.9 kB/s eta 0:00:04\n",
      "   -------------------- ------------------- 3.1/6.3 MB 986.9 kB/s eta 0:00:04\n",
      "   --------------------- ------------------ 3.4/6.3 MB 958.8 kB/s eta 0:00:03\n",
      "   ----------------------- ---------------- 3.7/6.3 MB 965.1 kB/s eta 0:00:03\n",
      "   ------------------------- -------------- 3.9/6.3 MB 955.0 kB/s eta 0:00:03\n",
      "   ------------------------- -------------- 3.9/6.3 MB 955.0 kB/s eta 0:00:03\n",
      "   -------------------------- ------------- 4.2/6.3 MB 935.6 kB/s eta 0:00:03\n",
      "   ---------------------------- ----------- 4.5/6.3 MB 932.1 kB/s eta 0:00:02\n",
      "   ---------------------------- ----------- 4.5/6.3 MB 932.1 kB/s eta 0:00:02\n",
      "   ------------------------------ --------- 4.7/6.3 MB 935.2 kB/s eta 0:00:02\n",
      "   ------------------------------- -------- 5.0/6.3 MB 937.9 kB/s eta 0:00:02\n",
      "   --------------------------------- ------ 5.2/6.3 MB 937.6 kB/s eta 0:00:02\n",
      "   ----------------------------------- ---- 5.5/6.3 MB 942.6 kB/s eta 0:00:01\n",
      "   ----------------------------------- ---- 5.5/6.3 MB 942.6 kB/s eta 0:00:01\n",
      "   ------------------------------------ --- 5.8/6.3 MB 944.6 kB/s eta 0:00:01\n",
      "   -------------------------------------- - 6.0/6.3 MB 951.4 kB/s eta 0:00:01\n",
      "   ---------------------------------------- 6.3/6.3 MB 959.7 kB/s eta 0:00:00\n",
      "Downloading cloudpathlib-0.21.0-py3-none-any.whl (52 kB)\n",
      "Downloading confection-0.1.5-py3-none-any.whl (35 kB)\n",
      "Downloading language_data-1.3.0-py3-none-any.whl (5.4 MB)\n",
      "   ---------------------------------------- 0.0/5.4 MB ? eta -:--:--\n",
      "   - -------------------------------------- 0.3/5.4 MB ? eta -:--:--\n",
      "   - -------------------------------------- 0.3/5.4 MB ? eta -:--:--\n",
      "   --- ------------------------------------ 0.5/5.4 MB 1.1 MB/s eta 0:00:05\n",
      "   ------- -------------------------------- 1.0/5.4 MB 1.3 MB/s eta 0:00:04\n",
      "   --------- ------------------------------ 1.3/5.4 MB 1.2 MB/s eta 0:00:04\n",
      "   ----------- ---------------------------- 1.6/5.4 MB 1.3 MB/s eta 0:00:04\n",
      "   ------------- -------------------------- 1.8/5.4 MB 1.2 MB/s eta 0:00:03\n",
      "   --------------- ------------------------ 2.1/5.4 MB 1.2 MB/s eta 0:00:03\n",
      "   --------------- ------------------------ 2.1/5.4 MB 1.2 MB/s eta 0:00:03\n",
      "   ----------------- ---------------------- 2.4/5.4 MB 1.2 MB/s eta 0:00:03\n",
      "   ------------------- -------------------- 2.6/5.4 MB 1.2 MB/s eta 0:00:03\n",
      "   --------------------- ------------------ 2.9/5.4 MB 1.1 MB/s eta 0:00:03\n",
      "   --------------------- ------------------ 2.9/5.4 MB 1.1 MB/s eta 0:00:03\n",
      "   ----------------------- ---------------- 3.1/5.4 MB 1.1 MB/s eta 0:00:03\n",
      "   ------------------------- -------------- 3.4/5.4 MB 1.1 MB/s eta 0:00:02\n",
      "   ------------------------- -------------- 3.4/5.4 MB 1.1 MB/s eta 0:00:02\n",
      "   --------------------------- ------------ 3.7/5.4 MB 1.0 MB/s eta 0:00:02\n",
      "   ----------------------------- ---------- 3.9/5.4 MB 1.0 MB/s eta 0:00:02\n",
      "   ------------------------------- -------- 4.2/5.4 MB 1.0 MB/s eta 0:00:02\n",
      "   ------------------------------- -------- 4.2/5.4 MB 1.0 MB/s eta 0:00:02\n",
      "   --------------------------------- ------ 4.5/5.4 MB 1.0 MB/s eta 0:00:01\n",
      "   ----------------------------------- ---- 4.7/5.4 MB 1.0 MB/s eta 0:00:01\n",
      "   ------------------------------------ --- 5.0/5.4 MB 1.0 MB/s eta 0:00:01\n",
      "   -------------------------------------- - 5.2/5.4 MB 1.0 MB/s eta 0:00:01\n",
      "   ---------------------------------------- 5.4/5.4 MB 1.0 MB/s eta 0:00:00\n",
      "Downloading rich-14.0.0-py3-none-any.whl (243 kB)\n",
      "Downloading shellingham-1.5.4-py2.py3-none-any.whl (9.8 kB)\n",
      "Downloading smart_open-7.1.0-py3-none-any.whl (61 kB)\n",
      "Downloading typing_inspection-0.4.0-py3-none-any.whl (14 kB)\n",
      "Downloading marisa_trie-1.2.1-cp312-cp312-win_amd64.whl (150 kB)\n",
      "Downloading markdown_it_py-3.0.0-py3-none-any.whl (87 kB)\n",
      "Downloading wrapt-1.17.2-cp312-cp312-win_amd64.whl (38 kB)\n",
      "Downloading mdurl-0.1.2-py3-none-any.whl (10.0 kB)\n",
      "Installing collected packages: cymem, wrapt, wasabi, typing-inspection, spacy-loggers, spacy-legacy, shellingham, pydantic-core, murmurhash, mdurl, marisa-trie, cloudpathlib, catalogue, blis, annotated-types, srsly, smart-open, pydantic, preshed, markdown-it-py, language-data, rich, langcodes, confection, typer, thinc, weasel, spacy\n",
      "Successfully installed annotated-types-0.7.0 blis-1.3.0 catalogue-2.0.10 cloudpathlib-0.21.0 confection-0.1.5 cymem-2.0.11 langcodes-3.5.0 language-data-1.3.0 marisa-trie-1.2.1 markdown-it-py-3.0.0 mdurl-0.1.2 murmurhash-1.0.12 preshed-3.0.9 pydantic-2.11.4 pydantic-core-2.33.2 rich-14.0.0 shellingham-1.5.4 smart-open-7.1.0 spacy-3.8.5 spacy-legacy-3.0.12 spacy-loggers-1.0.5 srsly-2.5.1 thinc-8.3.6 typer-0.15.3 typing-inspection-0.4.0 wasabi-1.1.3 weasel-0.4.1 wrapt-1.17.2\n",
      "Note: you may need to restart the kernel to use updated packages.\n"
     ]
    },
    {
     "name": "stderr",
     "output_type": "stream",
     "text": [
      "\n",
      "[notice] A new release of pip is available: 25.0.1 -> 25.1.1\n",
      "[notice] To update, run: python.exe -m pip install --upgrade pip\n"
     ]
    }
   ],
   "source": [
    "pip install spacy\n"
   ]
  },
  {
   "cell_type": "code",
   "execution_count": 11,
   "id": "248125e6-2542-469c-84d6-6288fb58a048",
   "metadata": {},
   "outputs": [
    {
     "name": "stderr",
     "output_type": "stream",
     "text": [
      "[nltk_data] Downloading package punkt to\n",
      "[nltk_data]     C:\\Users\\sagar\\AppData\\Roaming\\nltk_data...\n",
      "[nltk_data]   Package punkt is already up-to-date!\n",
      "[nltk_data] Downloading package stopwords to\n",
      "[nltk_data]     C:\\Users\\sagar\\AppData\\Roaming\\nltk_data...\n",
      "[nltk_data]   Package stopwords is already up-to-date!\n",
      "[nltk_data] Downloading package averaged_perceptron_tagger to\n",
      "[nltk_data]     C:\\Users\\sagar\\AppData\\Roaming\\nltk_data...\n",
      "[nltk_data]   Package averaged_perceptron_tagger is already up-to-\n",
      "[nltk_data]       date!\n",
      "[nltk_data] Downloading package wordnet to\n",
      "[nltk_data]     C:\\Users\\sagar\\AppData\\Roaming\\nltk_data...\n",
      "[nltk_data]   Package wordnet is already up-to-date!\n",
      "[nltk_data] Downloading package omw-1.4 to\n",
      "[nltk_data]     C:\\Users\\sagar\\AppData\\Roaming\\nltk_data...\n",
      "[nltk_data]   Package omw-1.4 is already up-to-date!\n"
     ]
    },
    {
     "data": {
      "text/plain": [
       "True"
      ]
     },
     "execution_count": 11,
     "metadata": {},
     "output_type": "execute_result"
    }
   ],
   "source": [
    "import spacy\n",
    "import nltk\n",
    "from nltk.corpus import stopwords\n",
    "from nltk.stem import PorterStemmer, WordNetLemmatizer\n",
    "from nltk.tokenize import word_tokenize\n",
    "\n",
    "\n",
    "# Download necessary NLTK data (run this once)\n",
    "nltk.download('punkt')\n",
    "nltk.download('stopwords')\n",
    "nltk.download('averaged_perceptron_tagger')\n",
    "nltk.download('wordnet')\n",
    "nltk.download('omw-1.4')\n"
   ]
  },
  {
   "cell_type": "code",
   "execution_count": 14,
   "id": "40ff240c-5c1a-4184-a30f-4af217ec315c",
   "metadata": {},
   "outputs": [
    {
     "ename": "OSError",
     "evalue": "[E050] Can't find model 'en_core_web_sm'. It doesn't seem to be a Python package or a valid path to a data directory.",
     "output_type": "error",
     "traceback": [
      "\u001b[1;31m---------------------------------------------------------------------------\u001b[0m",
      "\u001b[1;31mOSError\u001b[0m                                   Traceback (most recent call last)",
      "Cell \u001b[1;32mIn[14], line 2\u001b[0m\n\u001b[0;32m      1\u001b[0m \u001b[38;5;66;03m# Load the English language model for spaCy\u001b[39;00m\n\u001b[1;32m----> 2\u001b[0m nlp \u001b[38;5;241m=\u001b[39m \u001b[43mspacy\u001b[49m\u001b[38;5;241;43m.\u001b[39;49m\u001b[43mload\u001b[49m\u001b[43m(\u001b[49m\u001b[38;5;124;43m\"\u001b[39;49m\u001b[38;5;124;43men_core_web_sm\u001b[39;49m\u001b[38;5;124;43m\"\u001b[39;49m\u001b[43m)\u001b[49m\n\u001b[0;32m      4\u001b[0m \u001b[38;5;66;03m# Initialize NLTK tools\u001b[39;00m\n\u001b[0;32m      5\u001b[0m stop_words \u001b[38;5;241m=\u001b[39m \u001b[38;5;28mset\u001b[39m(stopwords\u001b[38;5;241m.\u001b[39mwords(\u001b[38;5;124m'\u001b[39m\u001b[38;5;124menglish\u001b[39m\u001b[38;5;124m'\u001b[39m))\n",
      "File \u001b[1;32m~\\AppData\\Local\\Programs\\Python\\Python312\\Lib\\site-packages\\spacy\\__init__.py:51\u001b[0m, in \u001b[0;36mload\u001b[1;34m(name, vocab, disable, enable, exclude, config)\u001b[0m\n\u001b[0;32m     27\u001b[0m \u001b[38;5;28;01mdef\u001b[39;00m\u001b[38;5;250m \u001b[39m\u001b[38;5;21mload\u001b[39m(\n\u001b[0;32m     28\u001b[0m     name: Union[\u001b[38;5;28mstr\u001b[39m, Path],\n\u001b[0;32m     29\u001b[0m     \u001b[38;5;241m*\u001b[39m,\n\u001b[1;32m   (...)\u001b[0m\n\u001b[0;32m     34\u001b[0m     config: Union[Dict[\u001b[38;5;28mstr\u001b[39m, Any], Config] \u001b[38;5;241m=\u001b[39m util\u001b[38;5;241m.\u001b[39mSimpleFrozenDict(),\n\u001b[0;32m     35\u001b[0m ) \u001b[38;5;241m-\u001b[39m\u001b[38;5;241m>\u001b[39m Language:\n\u001b[0;32m     36\u001b[0m \u001b[38;5;250m    \u001b[39m\u001b[38;5;124;03m\"\"\"Load a spaCy model from an installed package or a local path.\u001b[39;00m\n\u001b[0;32m     37\u001b[0m \n\u001b[0;32m     38\u001b[0m \u001b[38;5;124;03m    name (str): Package name or model path.\u001b[39;00m\n\u001b[1;32m   (...)\u001b[0m\n\u001b[0;32m     49\u001b[0m \u001b[38;5;124;03m    RETURNS (Language): The loaded nlp object.\u001b[39;00m\n\u001b[0;32m     50\u001b[0m \u001b[38;5;124;03m    \"\"\"\u001b[39;00m\n\u001b[1;32m---> 51\u001b[0m     \u001b[38;5;28;01mreturn\u001b[39;00m \u001b[43mutil\u001b[49m\u001b[38;5;241;43m.\u001b[39;49m\u001b[43mload_model\u001b[49m\u001b[43m(\u001b[49m\n\u001b[0;32m     52\u001b[0m \u001b[43m        \u001b[49m\u001b[43mname\u001b[49m\u001b[43m,\u001b[49m\n\u001b[0;32m     53\u001b[0m \u001b[43m        \u001b[49m\u001b[43mvocab\u001b[49m\u001b[38;5;241;43m=\u001b[39;49m\u001b[43mvocab\u001b[49m\u001b[43m,\u001b[49m\n\u001b[0;32m     54\u001b[0m \u001b[43m        \u001b[49m\u001b[43mdisable\u001b[49m\u001b[38;5;241;43m=\u001b[39;49m\u001b[43mdisable\u001b[49m\u001b[43m,\u001b[49m\n\u001b[0;32m     55\u001b[0m \u001b[43m        \u001b[49m\u001b[43menable\u001b[49m\u001b[38;5;241;43m=\u001b[39;49m\u001b[43menable\u001b[49m\u001b[43m,\u001b[49m\n\u001b[0;32m     56\u001b[0m \u001b[43m        \u001b[49m\u001b[43mexclude\u001b[49m\u001b[38;5;241;43m=\u001b[39;49m\u001b[43mexclude\u001b[49m\u001b[43m,\u001b[49m\n\u001b[0;32m     57\u001b[0m \u001b[43m        \u001b[49m\u001b[43mconfig\u001b[49m\u001b[38;5;241;43m=\u001b[39;49m\u001b[43mconfig\u001b[49m\u001b[43m,\u001b[49m\n\u001b[0;32m     58\u001b[0m \u001b[43m    \u001b[49m\u001b[43m)\u001b[49m\n",
      "File \u001b[1;32m~\\AppData\\Local\\Programs\\Python\\Python312\\Lib\\site-packages\\spacy\\util.py:472\u001b[0m, in \u001b[0;36mload_model\u001b[1;34m(name, vocab, disable, enable, exclude, config)\u001b[0m\n\u001b[0;32m    470\u001b[0m \u001b[38;5;28;01mif\u001b[39;00m name \u001b[38;5;129;01min\u001b[39;00m OLD_MODEL_SHORTCUTS:\n\u001b[0;32m    471\u001b[0m     \u001b[38;5;28;01mraise\u001b[39;00m \u001b[38;5;167;01mIOError\u001b[39;00m(Errors\u001b[38;5;241m.\u001b[39mE941\u001b[38;5;241m.\u001b[39mformat(name\u001b[38;5;241m=\u001b[39mname, full\u001b[38;5;241m=\u001b[39mOLD_MODEL_SHORTCUTS[name]))  \u001b[38;5;66;03m# type: ignore[index]\u001b[39;00m\n\u001b[1;32m--> 472\u001b[0m \u001b[38;5;28;01mraise\u001b[39;00m \u001b[38;5;167;01mIOError\u001b[39;00m(Errors\u001b[38;5;241m.\u001b[39mE050\u001b[38;5;241m.\u001b[39mformat(name\u001b[38;5;241m=\u001b[39mname))\n",
      "\u001b[1;31mOSError\u001b[0m: [E050] Can't find model 'en_core_web_sm'. It doesn't seem to be a Python package or a valid path to a data directory."
     ]
    }
   ],
   "source": [
    "\n",
    "# Load the English language model for spaCy\n",
    "nlp = spacy.load(\"en_core_web_sm\")\n",
    "\n",
    "# Initialize NLTK tools\n",
    "stop_words = set(stopwords.words('english'))\n",
    "stemmer = PorterStemmer()\n",
    "lemmatizer = WordNetLemmatizer()\n"
   ]
  },
  {
   "cell_type": "code",
   "execution_count": 15,
   "id": "d04bee01-a1bc-478f-a349-5835a2b36ed6",
   "metadata": {},
   "outputs": [
    {
     "ename": "SyntaxError",
     "evalue": "invalid syntax (581980377.py, line 1)",
     "output_type": "error",
     "traceback": [
      "\u001b[1;36m  Cell \u001b[1;32mIn[15], line 1\u001b[1;36m\u001b[0m\n\u001b[1;33m    python -m spacy download en_core_web_sm\u001b[0m\n\u001b[1;37m              ^\u001b[0m\n\u001b[1;31mSyntaxError\u001b[0m\u001b[1;31m:\u001b[0m invalid syntax\n"
     ]
    }
   ],
   "source": [
    "python -m spacy download en_core_web_sm"
   ]
  },
  {
   "cell_type": "code",
   "execution_count": 16,
   "id": "3ee98ae4-5bb7-4877-9eb7-b3e572f98a52",
   "metadata": {},
   "outputs": [
    {
     "ename": "SyntaxError",
     "evalue": "invalid syntax (2796953600.py, line 1)",
     "output_type": "error",
     "traceback": [
      "\u001b[1;36m  Cell \u001b[1;32mIn[16], line 1\u001b[1;36m\u001b[0m\n\u001b[1;33m    download en_core_web_sm\u001b[0m\n\u001b[1;37m             ^\u001b[0m\n\u001b[1;31mSyntaxError\u001b[0m\u001b[1;31m:\u001b[0m invalid syntax\n"
     ]
    }
   ],
   "source": [
    "\n",
    "download en_core_web_sm"
   ]
  },
  {
   "cell_type": "code",
   "execution_count": null,
   "id": "4270f797-15a5-44f7-926b-96dafc4d248c",
   "metadata": {},
   "outputs": [],
   "source": []
  }
 ],
 "metadata": {
  "kernelspec": {
   "display_name": "Python 3 (ipykernel)",
   "language": "python",
   "name": "python3"
  },
  "language_info": {
   "codemirror_mode": {
    "name": "ipython",
    "version": 3
   },
   "file_extension": ".py",
   "mimetype": "text/x-python",
   "name": "python",
   "nbconvert_exporter": "python",
   "pygments_lexer": "ipython3",
   "version": "3.12.4"
  }
 },
 "nbformat": 4,
 "nbformat_minor": 5
}
