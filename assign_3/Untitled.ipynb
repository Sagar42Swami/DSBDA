{
 "cells": [
  {
   "cell_type": "code",
   "execution_count": 2,
   "id": "36cc624f-a421-4bd7-b744-49ee551edd51",
   "metadata": {},
   "outputs": [
    {
     "name": "stdout",
     "output_type": "stream",
     "text": [
      "\n",
      "--- Statistics for Iris-setosa ---\n",
      "       sepal_length  sepal_width  petal_length  petal_width\n",
      "count           0.0          0.0           0.0          0.0\n",
      "mean            NaN          NaN           NaN          NaN\n",
      "std             NaN          NaN           NaN          NaN\n",
      "min             NaN          NaN           NaN          NaN\n",
      "25%             NaN          NaN           NaN          NaN\n",
      "50%             NaN          NaN           NaN          NaN\n",
      "75%             NaN          NaN           NaN          NaN\n",
      "max             NaN          NaN           NaN          NaN\n",
      "\n",
      "Mean for Iris-setosa:\n",
      " sepal_length   NaN\n",
      "sepal_width    NaN\n",
      "petal_length   NaN\n",
      "petal_width    NaN\n",
      "dtype: float64\n",
      "\n",
      "Standard Deviation for Iris-setosa:\n",
      " sepal_length   NaN\n",
      "sepal_width    NaN\n",
      "petal_length   NaN\n",
      "petal_width    NaN\n",
      "dtype: float64\n",
      "\n",
      "--- Statistics for Iris-versicolor ---\n",
      "       sepal_length  sepal_width  petal_length  petal_width\n",
      "count           0.0          0.0           0.0          0.0\n",
      "mean            NaN          NaN           NaN          NaN\n",
      "std             NaN          NaN           NaN          NaN\n",
      "min             NaN          NaN           NaN          NaN\n",
      "25%             NaN          NaN           NaN          NaN\n",
      "50%             NaN          NaN           NaN          NaN\n",
      "75%             NaN          NaN           NaN          NaN\n",
      "max             NaN          NaN           NaN          NaN\n",
      "\n",
      "Mean for Iris-versicolor:\n",
      " sepal_length   NaN\n",
      "sepal_width    NaN\n",
      "petal_length   NaN\n",
      "petal_width    NaN\n",
      "dtype: float64\n",
      "\n",
      "Standard Deviation for Iris-versicolor:\n",
      " sepal_length   NaN\n",
      "sepal_width    NaN\n",
      "petal_length   NaN\n",
      "petal_width    NaN\n",
      "dtype: float64\n",
      "\n",
      "--- Statistics for Iris-virginica ---\n",
      "       sepal_length  sepal_width  petal_length  petal_width\n",
      "count           0.0          0.0           0.0          0.0\n",
      "mean            NaN          NaN           NaN          NaN\n",
      "std             NaN          NaN           NaN          NaN\n",
      "min             NaN          NaN           NaN          NaN\n",
      "25%             NaN          NaN           NaN          NaN\n",
      "50%             NaN          NaN           NaN          NaN\n",
      "75%             NaN          NaN           NaN          NaN\n",
      "max             NaN          NaN           NaN          NaN\n",
      "\n",
      "Mean for Iris-virginica:\n",
      " sepal_length   NaN\n",
      "sepal_width    NaN\n",
      "petal_length   NaN\n",
      "petal_width    NaN\n",
      "dtype: float64\n",
      "\n",
      "Standard Deviation for Iris-virginica:\n",
      " sepal_length   NaN\n",
      "sepal_width    NaN\n",
      "petal_length   NaN\n",
      "petal_width    NaN\n",
      "dtype: float64\n"
     ]
    }
   ],
   "source": [
    "import pandas as pd\n",
    "\n",
    "# Load the Iris dataset\n",
    "df_iris = pd.read_csv('iris.csv')\n",
    "\n",
    "# Filter the DataFrame for each species\n",
    "setosa = df_iris[df_iris['species'] == 'Iris-setosa']\n",
    "versicolor = df_iris[df_iris['species'] == 'Iris-versicolor']\n",
    "virginica = df_iris[df_iris['species'] == 'Iris-virginica'] # Corrected species name\n",
    "\n",
    "# Define the percentiles to calculate\n",
    "percentiles = [0.25, 0.50, 0.75]\n",
    "\n",
    "def get_stats(df, species_name):\n",
    "    \"\"\"Calculates and displays basic statistics for a given species.\"\"\"\n",
    "    print(f\"\\n--- Statistics for {species_name} ---\")\n",
    "    print(df.describe(percentiles=percentiles))\n",
    "    print(f\"\\nMean for {species_name}:\\n\", df.mean(numeric_only=True))\n",
    "    print(f\"\\nStandard Deviation for {species_name}:\\n\", df.std(numeric_only=True))\n",
    "\n",
    "# Display statistics for each species\n",
    "get_stats(setosa, 'Iris-setosa')\n",
    "get_stats(versicolor, 'Iris-versicolor')\n",
    "get_stats(virginica, 'Iris-virginica')"
   ]
  },
  {
   "cell_type": "code",
   "execution_count": 5,
   "id": "508c4f9e-1391-4a19-ac94-1ef11db0148d",
   "metadata": {},
   "outputs": [],
   "source": [
    "import pandas as pd\n",
    "import numpy as np\n",
    "from sklearn.model_selection import train_test_split\n",
    "from sklearn.linear_model import LinearRegression\n",
    "from sklearn.metrics import mean_squared_error, r2_score\n",
    "import matplotlib.pyplot as plt\n",
    "import seaborn as sns\n"
   ]
  },
  {
   "cell_type": "code",
   "execution_count": 4,
   "id": "a439d473-8e18-4ab4-95df-a15bf34668ac",
   "metadata": {},
   "outputs": [
    {
     "ename": "NameError",
     "evalue": "name 'load_boston' is not defined",
     "output_type": "error",
     "traceback": [
      "\u001b[1;31m---------------------------------------------------------------------------\u001b[0m",
      "\u001b[1;31mNameError\u001b[0m                                 Traceback (most recent call last)",
      "Cell \u001b[1;32mIn[4], line 1\u001b[0m\n\u001b[1;32m----> 1\u001b[0m boston \u001b[38;5;241m=\u001b[39m \u001b[43mload_boston\u001b[49m()\n\u001b[0;32m      2\u001b[0m df \u001b[38;5;241m=\u001b[39m pd\u001b[38;5;241m.\u001b[39mDataFrame(boston\u001b[38;5;241m.\u001b[39mdata, columns\u001b[38;5;241m=\u001b[39mboston\u001b[38;5;241m.\u001b[39mfeature_names)\n\u001b[0;32m      3\u001b[0m df[\u001b[38;5;124m'\u001b[39m\u001b[38;5;124mMEDV\u001b[39m\u001b[38;5;124m'\u001b[39m] \u001b[38;5;241m=\u001b[39m boston\u001b[38;5;241m.\u001b[39mtarget  \u001b[38;5;66;03m# MEDV is the target variable (median value of owner-occupied homes in $1000s)\u001b[39;00m\n",
      "\u001b[1;31mNameError\u001b[0m: name 'load_boston' is not defined"
     ]
    }
   ],
   "source": [
    "boston = load_boston()\n",
    "df = pd.DataFrame(boston.data, columns=boston.feature_names)\n",
    "df['MEDV'] = boston.target  # MEDV is the target variable (median value of owner-occupied homes in $1000s)\n",
    "\n",
    "print(\"First 5 rows of the Boston Housing Dataset:\\n\", df.head())\n",
    "print(\"\\nShape of the dataset:\", df.shape)\n",
    "print(\"\\nDescription of the dataset:\\n\", boston.DESCR)"
   ]
  },
  {
   "cell_type": "code",
   "execution_count": null,
   "id": "79be4096-e465-47be-8a45-e4ec449a8378",
   "metadata": {},
   "outputs": [],
   "source": []
  }
 ],
 "metadata": {
  "kernelspec": {
   "display_name": "Python 3 (ipykernel)",
   "language": "python",
   "name": "python3"
  },
  "language_info": {
   "codemirror_mode": {
    "name": "ipython",
    "version": 3
   },
   "file_extension": ".py",
   "mimetype": "text/x-python",
   "name": "python",
   "nbconvert_exporter": "python",
   "pygments_lexer": "ipython3",
   "version": "3.12.4"
  }
 },
 "nbformat": 4,
 "nbformat_minor": 5
}
